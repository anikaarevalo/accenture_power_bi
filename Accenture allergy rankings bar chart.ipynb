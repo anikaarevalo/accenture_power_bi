{
 "cells": [
  {
   "cell_type": "code",
   "execution_count": 98,
   "id": "3b8a42e5",
   "metadata": {},
   "outputs": [],
   "source": [
    "# Initializing the necessary python library for data analysis \n",
    "import pandas as pd"
   ]
  },
  {
   "cell_type": "code",
   "execution_count": 99,
   "id": "b8fe7d1a",
   "metadata": {},
   "outputs": [],
   "source": [
    "# Opening the relevant file containing the data set\n",
    "df = pd.read_csv('/Users/anix/GNT-Arai-3/content/3.data_tools/data_visualization/ODL_ALLERGY_CUSTOMER.csv') "
   ]
  },
  {
   "cell_type": "code",
   "execution_count": 100,
   "id": "bed395bd",
   "metadata": {},
   "outputs": [
    {
     "data": {
      "text/html": [
       "<div>\n",
       "<style scoped>\n",
       "    .dataframe tbody tr th:only-of-type {\n",
       "        vertical-align: middle;\n",
       "    }\n",
       "\n",
       "    .dataframe tbody tr th {\n",
       "        vertical-align: top;\n",
       "    }\n",
       "\n",
       "    .dataframe thead th {\n",
       "        text-align: right;\n",
       "    }\n",
       "</style>\n",
       "<table border=\"1\" class=\"dataframe\">\n",
       "  <thead>\n",
       "    <tr style=\"text-align: right;\">\n",
       "      <th></th>\n",
       "      <th>allergy_id</th>\n",
       "      <th>customer_id</th>\n",
       "    </tr>\n",
       "  </thead>\n",
       "  <tbody>\n",
       "    <tr>\n",
       "      <th>0</th>\n",
       "      <td>2</td>\n",
       "      <td>25049</td>\n",
       "    </tr>\n",
       "    <tr>\n",
       "      <th>1</th>\n",
       "      <td>2</td>\n",
       "      <td>20754</td>\n",
       "    </tr>\n",
       "    <tr>\n",
       "      <th>2</th>\n",
       "      <td>2</td>\n",
       "      <td>823</td>\n",
       "    </tr>\n",
       "    <tr>\n",
       "      <th>3</th>\n",
       "      <td>2</td>\n",
       "      <td>18708</td>\n",
       "    </tr>\n",
       "    <tr>\n",
       "      <th>4</th>\n",
       "      <td>2</td>\n",
       "      <td>3731</td>\n",
       "    </tr>\n",
       "    <tr>\n",
       "      <th>5</th>\n",
       "      <td>2</td>\n",
       "      <td>14614</td>\n",
       "    </tr>\n",
       "    <tr>\n",
       "      <th>6</th>\n",
       "      <td>2</td>\n",
       "      <td>9819</td>\n",
       "    </tr>\n",
       "    <tr>\n",
       "      <th>7</th>\n",
       "      <td>2</td>\n",
       "      <td>15877</td>\n",
       "    </tr>\n",
       "    <tr>\n",
       "      <th>8</th>\n",
       "      <td>2</td>\n",
       "      <td>17509</td>\n",
       "    </tr>\n",
       "    <tr>\n",
       "      <th>9</th>\n",
       "      <td>2</td>\n",
       "      <td>20549</td>\n",
       "    </tr>\n",
       "  </tbody>\n",
       "</table>\n",
       "</div>"
      ],
      "text/plain": [
       "   allergy_id  customer_id\n",
       "0           2        25049\n",
       "1           2        20754\n",
       "2           2          823\n",
       "3           2        18708\n",
       "4           2         3731\n",
       "5           2        14614\n",
       "6           2         9819\n",
       "7           2        15877\n",
       "8           2        17509\n",
       "9           2        20549"
      ]
     },
     "execution_count": 100,
     "metadata": {},
     "output_type": "execute_result"
    }
   ],
   "source": [
    "# Displaying first 10 rows of the data frame\n",
    "df.head(10) "
   ]
  },
  {
   "cell_type": "code",
   "execution_count": 101,
   "id": "9cc97422",
   "metadata": {},
   "outputs": [
    {
     "name": "stdout",
     "output_type": "stream",
     "text": [
      "<class 'pandas.core.frame.DataFrame'>\n",
      "RangeIndex: 37705 entries, 0 to 37704\n",
      "Data columns (total 2 columns):\n",
      " #   Column       Non-Null Count  Dtype\n",
      "---  ------       --------------  -----\n",
      " 0   allergy_id   37705 non-null  int64\n",
      " 1   customer_id  37705 non-null  int64\n",
      "dtypes: int64(2)\n",
      "memory usage: 589.3 KB\n"
     ]
    }
   ],
   "source": [
    "# Providing concise summary of the data frame \n",
    "df.info()"
   ]
  },
  {
   "cell_type": "code",
   "execution_count": 67,
   "id": "648eff67",
   "metadata": {},
   "outputs": [
    {
     "data": {
      "text/plain": [
       "0    4\n",
       "dtype: int64"
      ]
     },
     "execution_count": 67,
     "metadata": {},
     "output_type": "execute_result"
    }
   ],
   "source": [
    "# The pandas mode function identifies which of the allegies based on ID appears most often \n",
    "# It's allergy ID number 4\n",
    "df['allergy_id'].mode() "
   ]
  },
  {
   "cell_type": "code",
   "execution_count": 68,
   "id": "06313089",
   "metadata": {},
   "outputs": [
    {
     "data": {
      "text/plain": [
       "4    4805\n",
       "2    4795\n",
       "1    4736\n",
       "7    4735\n",
       "3    4700\n",
       "5    4694\n",
       "6    4656\n",
       "0    4584\n",
       "Name: allergy_id, dtype: int64"
      ]
     },
     "execution_count": 68,
     "metadata": {},
     "output_type": "execute_result"
    }
   ],
   "source": [
    "# The pandas value_counts() function tells us the number of times each allergy id appears in our data set\n",
    "# and ranks them from highest to lowest. Allergy ID number 4 that appears most often appears \n",
    "# a total of 4,805 times \n",
    "df['allergy_id'].value_counts() "
   ]
  },
  {
   "cell_type": "code",
   "execution_count": 69,
   "id": "09f05ecd",
   "metadata": {},
   "outputs": [
    {
     "data": {
      "text/plain": [
       "4    4805\n",
       "2    4795\n",
       "1    4736\n",
       "7    4735\n",
       "3    4700\n",
       "5    4694\n",
       "6    4656\n",
       "0    4584\n",
       "Name: allergy_id, dtype: int64"
      ]
     },
     "execution_count": 69,
     "metadata": {},
     "output_type": "execute_result"
    }
   ],
   "source": [
    "### df['allergy_id'].value_counts(dropna=False)  "
   ]
  },
  {
   "cell_type": "code",
   "execution_count": 70,
   "id": "46745d8b",
   "metadata": {},
   "outputs": [
    {
     "data": {
      "text/plain": [
       "allergy_id\n",
       "0    4584\n",
       "1    4736\n",
       "2    4795\n",
       "3    4700\n",
       "4    4805\n",
       "5    4694\n",
       "6    4656\n",
       "7    4735\n",
       "dtype: int64"
      ]
     },
     "execution_count": 70,
     "metadata": {},
     "output_type": "execute_result"
    }
   ],
   "source": [
    "### df.groupby('allergy_id').size() "
   ]
  },
  {
   "cell_type": "code",
   "execution_count": 71,
   "id": "2d96e8d2",
   "metadata": {},
   "outputs": [
    {
     "data": {
      "text/html": [
       "<div>\n",
       "<style scoped>\n",
       "    .dataframe tbody tr th:only-of-type {\n",
       "        vertical-align: middle;\n",
       "    }\n",
       "\n",
       "    .dataframe tbody tr th {\n",
       "        vertical-align: top;\n",
       "    }\n",
       "\n",
       "    .dataframe thead th {\n",
       "        text-align: right;\n",
       "    }\n",
       "</style>\n",
       "<table border=\"1\" class=\"dataframe\">\n",
       "  <thead>\n",
       "    <tr style=\"text-align: right;\">\n",
       "      <th></th>\n",
       "      <th>customer_id</th>\n",
       "    </tr>\n",
       "    <tr>\n",
       "      <th>allergy_id</th>\n",
       "      <th></th>\n",
       "    </tr>\n",
       "  </thead>\n",
       "  <tbody>\n",
       "    <tr>\n",
       "      <th>0</th>\n",
       "      <td>4584</td>\n",
       "    </tr>\n",
       "    <tr>\n",
       "      <th>1</th>\n",
       "      <td>4736</td>\n",
       "    </tr>\n",
       "    <tr>\n",
       "      <th>2</th>\n",
       "      <td>4795</td>\n",
       "    </tr>\n",
       "    <tr>\n",
       "      <th>3</th>\n",
       "      <td>4700</td>\n",
       "    </tr>\n",
       "    <tr>\n",
       "      <th>4</th>\n",
       "      <td>4805</td>\n",
       "    </tr>\n",
       "    <tr>\n",
       "      <th>5</th>\n",
       "      <td>4694</td>\n",
       "    </tr>\n",
       "    <tr>\n",
       "      <th>6</th>\n",
       "      <td>4656</td>\n",
       "    </tr>\n",
       "    <tr>\n",
       "      <th>7</th>\n",
       "      <td>4735</td>\n",
       "    </tr>\n",
       "  </tbody>\n",
       "</table>\n",
       "</div>"
      ],
      "text/plain": [
       "            customer_id\n",
       "allergy_id             \n",
       "0                  4584\n",
       "1                  4736\n",
       "2                  4795\n",
       "3                  4700\n",
       "4                  4805\n",
       "5                  4694\n",
       "6                  4656\n",
       "7                  4735"
      ]
     },
     "execution_count": 71,
     "metadata": {},
     "output_type": "execute_result"
    }
   ],
   "source": [
    "# The pandas data frame of the data \n",
    "df.groupby('allergy_id').count() "
   ]
  },
  {
   "cell_type": "code",
   "execution_count": 72,
   "id": "25c4a5cd",
   "metadata": {},
   "outputs": [
    {
     "data": {
      "text/html": [
       "<div>\n",
       "<style scoped>\n",
       "    .dataframe tbody tr th:only-of-type {\n",
       "        vertical-align: middle;\n",
       "    }\n",
       "\n",
       "    .dataframe tbody tr th {\n",
       "        vertical-align: top;\n",
       "    }\n",
       "\n",
       "    .dataframe thead th {\n",
       "        text-align: right;\n",
       "    }\n",
       "</style>\n",
       "<table border=\"1\" class=\"dataframe\">\n",
       "  <thead>\n",
       "    <tr style=\"text-align: right;\">\n",
       "      <th></th>\n",
       "      <th>customer_id</th>\n",
       "    </tr>\n",
       "    <tr>\n",
       "      <th>allergy_id</th>\n",
       "      <th></th>\n",
       "    </tr>\n",
       "  </thead>\n",
       "  <tbody>\n",
       "    <tr>\n",
       "      <th>0</th>\n",
       "      <td>4584</td>\n",
       "    </tr>\n",
       "    <tr>\n",
       "      <th>6</th>\n",
       "      <td>4656</td>\n",
       "    </tr>\n",
       "    <tr>\n",
       "      <th>5</th>\n",
       "      <td>4694</td>\n",
       "    </tr>\n",
       "    <tr>\n",
       "      <th>3</th>\n",
       "      <td>4700</td>\n",
       "    </tr>\n",
       "    <tr>\n",
       "      <th>7</th>\n",
       "      <td>4735</td>\n",
       "    </tr>\n",
       "    <tr>\n",
       "      <th>1</th>\n",
       "      <td>4736</td>\n",
       "    </tr>\n",
       "    <tr>\n",
       "      <th>2</th>\n",
       "      <td>4795</td>\n",
       "    </tr>\n",
       "    <tr>\n",
       "      <th>4</th>\n",
       "      <td>4805</td>\n",
       "    </tr>\n",
       "  </tbody>\n",
       "</table>\n",
       "</div>"
      ],
      "text/plain": [
       "            customer_id\n",
       "allergy_id             \n",
       "0                  4584\n",
       "6                  4656\n",
       "5                  4694\n",
       "3                  4700\n",
       "7                  4735\n",
       "1                  4736\n",
       "2                  4795\n",
       "4                  4805"
      ]
     },
     "execution_count": 72,
     "metadata": {},
     "output_type": "execute_result"
    }
   ],
   "source": [
    "# Creating the data frame to be able to answer the question:\n",
    "# Which allergen are almost all of the customers allergic to?\n",
    "# by showing the answer in a bar chart thereafter\n",
    "\n",
    "ranking = df_2.groupby('allergy_id').count().sort_values('customer_id')\n",
    "\n",
    "# Ranks the allergy id that appears from least frequent to most frequent in the data set\n",
    "ranking "
   ]
  },
  {
   "cell_type": "code",
   "execution_count": 73,
   "id": "e4d058f7",
   "metadata": {},
   "outputs": [
    {
     "data": {
      "text/plain": [
       "<AxesSubplot:xlabel='allergy_id'>"
      ]
     },
     "execution_count": 73,
     "metadata": {},
     "output_type": "execute_result"
    },
    {
     "data": {
      "image/png": "[encoded data removed]",
      "text/plain": [
       "<Figure size 432x288 with 1 Axes>"
      ]
     },
     "metadata": {
      "needs_background": "light"
     },
     "output_type": "display_data"
    }
   ],
   "source": [
    "# Plotting the ranking of allergies based on allergy ID using internal pandas library functionality  \n",
    "ranking.plot(kind='bar')  "
   ]
  },
  {
   "cell_type": "code",
   "execution_count": 74,
   "id": "33b028fd",
   "metadata": {},
   "outputs": [
    {
     "data": {
      "text/plain": [
       "(array([0, 1, 2, 3, 4, 5, 6, 7]),\n",
       " [Text(0, 0, '0'),\n",
       "  Text(1, 0, '1'),\n",
       "  Text(2, 0, '2'),\n",
       "  Text(3, 0, '3'),\n",
       "  Text(4, 0, '4'),\n",
       "  Text(5, 0, '5'),\n",
       "  Text(6, 0, '6'),\n",
       "  Text(7, 0, '7')])"
      ]
     },
     "execution_count": 74,
     "metadata": {},
     "output_type": "execute_result"
    },
    {
     "data": {
      "image/png": "[encoded data removed]",
      "text/plain": [
       "<Figure size 432x288 with 1 Axes>"
      ]
     },
     "metadata": {
      "needs_background": "light"
     },
     "output_type": "display_data"
    }
   ],
   "source": [
    "# Using seaborn library to make the bar chart more nuanced \n",
    "import seaborn as sns \n",
    "\n",
    "sns.barplot(y='customer_id', \n",
    "            x='allergy_id', \n",
    "            data=ranking.reset_index(),\n",
    ")\n",
    "\n",
    "plt.xticks(rotation='vertical')  "
   ]
  },
  {
   "cell_type": "code",
   "execution_count": 75,
   "id": "45bd69df",
   "metadata": {},
   "outputs": [
    {
     "data": {
      "text/plain": [
       "4    0.127437\n",
       "2    0.127171\n",
       "1    0.125607\n",
       "7    0.125580\n",
       "3    0.124652\n",
       "5    0.124493\n",
       "6    0.123485\n",
       "0    0.121575\n",
       "Name: allergy_id, dtype: float64"
      ]
     },
     "execution_count": 75,
     "metadata": {},
     "output_type": "execute_result"
    }
   ],
   "source": [
    "# Finding out the ratio among the allergies (based on allergy ID) relative to number of customers \n",
    "# (based on customer ID) possessing at least one allergy \n",
    "df['allergy_id'].value_counts(normalize=True) "
   ]
  },
  {
   "cell_type": "code",
   "execution_count": 76,
   "id": "b0e35bfb",
   "metadata": {},
   "outputs": [
    {
     "data": {
      "text/plain": [
       "21311"
      ]
     },
     "execution_count": 76,
     "metadata": {},
     "output_type": "execute_result"
    }
   ],
   "source": [
    "# Showing how many unique customer IDs there our in our data set\n",
    "df.customer_id.nunique() "
   ]
  },
  {
   "cell_type": "code",
   "execution_count": 77,
   "id": "d9801a16",
   "metadata": {},
   "outputs": [
    {
     "data": {
      "text/plain": [
       "28370    3\n",
       "25906    3\n",
       "8443     3\n",
       "28775    3\n",
       "14563    3\n",
       "        ..\n",
       "22659    1\n",
       "20304    1\n",
       "8991     1\n",
       "3935     1\n",
       "5962     1\n",
       "Name: customer_id, Length: 21311, dtype: int64"
      ]
     },
     "execution_count": 77,
     "metadata": {},
     "output_type": "execute_result"
    }
   ],
   "source": [
    "# Using the pandas value_counts function, we create a correlation between the number of customers and the number\n",
    "# of sources of allergies they are allergic to\n",
    "# We have good reason to believe that each customer is allergic to at least one (1) source of allergies and \n",
    "# at most three (3) sources of allergies  \n",
    "df['customer_id'].value_counts() "
   ]
  },
  {
   "cell_type": "code",
   "execution_count": 78,
   "id": "f6187ec6",
   "metadata": {},
   "outputs": [
    {
     "data": {
      "text/plain": [
       "28370    3\n",
       "25906    3\n",
       "8443     3\n",
       "28775    3\n",
       "14563    3\n",
       "        ..\n",
       "22659    1\n",
       "20304    1\n",
       "8991     1\n",
       "3935     1\n",
       "5962     1\n",
       "Name: customer_id, Length: 21311, dtype: int64"
      ]
     },
     "execution_count": 78,
     "metadata": {},
     "output_type": "execute_result"
    }
   ],
   "source": [
    "### df['customer_id'].value_counts(dropna=False)  "
   ]
  }
 ],
 "metadata": {
  "kernelspec": {
   "display_name": "Python 3 (ipykernel)",
   "language": "python",
   "name": "python3"
  },
  "language_info": {
   "codemirror_mode": {
    "name": "ipython",
    "version": 3
   },
   "file_extension": ".py",
   "mimetype": "text/x-python",
   "name": "python",
   "nbconvert_exporter": "python",
   "pygments_lexer": "ipython3",
   "version": "3.9.7"
  }
 },
 "nbformat": 4,
 "nbformat_minor": 5
}
